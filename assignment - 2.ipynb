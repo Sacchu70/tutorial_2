{
 "cells": [
  {
   "cell_type": "markdown",
   "id": "e2805cb1-893a-451c-b60e-a1ab11ead7fd",
   "metadata": {},
   "source": [
    "Q1. How do you comment code in Python? What are the different types of comments?"
   ]
  },
  {
   "cell_type": "markdown",
   "id": "1ec5a126-abbc-4983-915e-6dc76aab99e2",
   "metadata": {},
   "source": [
    "it is very simple to comment in python using '#'"
   ]
  },
  {
   "cell_type": "code",
   "execution_count": 1,
   "id": "c3b1d8f1-5652-44f9-a911-85384e63f1bf",
   "metadata": {},
   "outputs": [],
   "source": [
    "# sachin is a very good  boy"
   ]
  },
  {
   "cell_type": "code",
   "execution_count": 8,
   "id": "00f8e685-eb07-452b-85d4-ad1079c9b7ad",
   "metadata": {},
   "outputs": [],
   "source": [
    "#sachin is  good boy\n",
    "#now i give to u a pen\n"
   ]
  },
  {
   "cell_type": "raw",
   "id": "7e05dd60-814d-43e9-9213-854b3d8f0ff8",
   "metadata": {},
   "source": [
    "There is two type of comments:\n",
    "1. single line comment\n",
    "2. multiple line comment"
   ]
  },
  {
   "cell_type": "markdown",
   "id": "0cd891d6-ecf1-402c-9695-485fc805c40c",
   "metadata": {},
   "source": [
    "Q2. What are variables in Python? How do you declare and assign values to variables?"
   ]
  },
  {
   "cell_type": "raw",
   "id": "09600072-0b5e-4fa3-a178-0647d8512bfa",
   "metadata": {},
   "source": [
    "Variable is a internal memory in python in which any type of datatype will assigned.\n",
    "we will declare and assign value to variable with the of equals to'='sign.\n",
    "Like a = 23"
   ]
  },
  {
   "cell_type": "code",
   "execution_count": 9,
   "id": "ae6644f1-ef4c-47c5-b5aa-a6239315ba04",
   "metadata": {},
   "outputs": [],
   "source": [
    "a = 23"
   ]
  },
  {
   "cell_type": "code",
   "execution_count": 10,
   "id": "280d4987-c4f2-4f13-be81-61f740b2b63e",
   "metadata": {},
   "outputs": [
    {
     "data": {
      "text/plain": [
       "23"
      ]
     },
     "execution_count": 10,
     "metadata": {},
     "output_type": "execute_result"
    }
   ],
   "source": [
    "a"
   ]
  },
  {
   "cell_type": "markdown",
   "id": "9c5d7789-c92c-4aad-8fd1-cffc7118c441",
   "metadata": {},
   "source": [
    "Q3. How do you convert one data type to another in Python?"
   ]
  },
  {
   "cell_type": "code",
   "execution_count": 12,
   "id": "6b01b1c3-bd96-4e32-8fdd-6c13c4412e24",
   "metadata": {},
   "outputs": [
    {
     "data": {
      "text/plain": [
       "int"
      ]
     },
     "execution_count": 12,
     "metadata": {},
     "output_type": "execute_result"
    }
   ],
   "source": [
    "a = 23\n",
    "type(a)"
   ]
  },
  {
   "cell_type": "code",
   "execution_count": 13,
   "id": "2925210a-acfb-4473-a8a1-b41a489cc9d2",
   "metadata": {},
   "outputs": [
    {
     "data": {
      "text/plain": [
       "'23'"
      ]
     },
     "execution_count": 13,
     "metadata": {},
     "output_type": "execute_result"
    }
   ],
   "source": [
    "str(a)"
   ]
  },
  {
   "cell_type": "code",
   "execution_count": 17,
   "id": "77ed3e13-938b-41a0-a3ae-388815d1beda",
   "metadata": {},
   "outputs": [
    {
     "data": {
      "text/plain": [
       "23.0"
      ]
     },
     "execution_count": 17,
     "metadata": {},
     "output_type": "execute_result"
    }
   ],
   "source": [
    "float(a)"
   ]
  },
  {
   "cell_type": "code",
   "execution_count": 20,
   "id": "3e99d362-6f55-4580-9d57-147dec019fd0",
   "metadata": {},
   "outputs": [
    {
     "data": {
      "text/plain": [
       "True"
      ]
     },
     "execution_count": 20,
     "metadata": {},
     "output_type": "execute_result"
    }
   ],
   "source": [
    "bool(a)"
   ]
  },
  {
   "cell_type": "markdown",
   "id": "1b92faa3-1c4a-4d23-9d26-3c48a1e72ddc",
   "metadata": {},
   "source": [
    "Q4. How do you write and execute a Python script from the command line?"
   ]
  },
  {
   "cell_type": "code",
   "execution_count": 39,
   "id": "79902020-5147-499c-bed0-087d37aea798",
   "metadata": {},
   "outputs": [
    {
     "name": "stdout",
     "output_type": "stream",
     "text": [
      "sachin\n"
     ]
    }
   ],
   "source": [
    "print(\"sachin\")"
   ]
  },
  {
   "cell_type": "markdown",
   "id": "dbf077a3-c2c5-4ab7-9d8a-9a44b5f1dceb",
   "metadata": {},
   "source": [
    "Python script is excute in jupyter notebook with the help of \"shift + enter\"."
   ]
  },
  {
   "cell_type": "code",
   "execution_count": null,
   "id": "ab9f374a-95d4-486e-8d26-78005ec0cbd1",
   "metadata": {},
   "outputs": [],
   "source": []
  },
  {
   "cell_type": "markdown",
   "id": "ae19fb17-fbb2-4506-9bc5-24ee24f45625",
   "metadata": {},
   "source": [
    "Q5. Given a list my_list = [1, 2, 3, 4, 5], write the code to slice the list and obtain the sub-list [2, 3]."
   ]
  },
  {
   "cell_type": "code",
   "execution_count": 22,
   "id": "a4103df7-d216-4dd9-b0f1-51fb130df508",
   "metadata": {},
   "outputs": [],
   "source": [
    "my_list = [1,2,3,4,5]"
   ]
  },
  {
   "cell_type": "code",
   "execution_count": 23,
   "id": "313eb4c7-3aa3-461d-9a47-473f92e59407",
   "metadata": {},
   "outputs": [
    {
     "data": {
      "text/plain": [
       "[2, 3]"
      ]
     },
     "execution_count": 23,
     "metadata": {},
     "output_type": "execute_result"
    }
   ],
   "source": [
    "my_list[1:3]"
   ]
  },
  {
   "cell_type": "markdown",
   "id": "dcaeb2a8-cff9-4d2d-a87c-949ba30bcd13",
   "metadata": {},
   "source": [
    "Q6. What is a complex number in mathematics, and how is it represented in Python?"
   ]
  },
  {
   "cell_type": "markdown",
   "id": "16d96d5d-d278-469f-8944-41dfe61d3b9c",
   "metadata": {},
   "source": [
    "Complex number is a combination of real and imaginery number . \n",
    "Represented in mathematics : 2 + 4i\n",
    "Represnted in python : 2 + 4j"
   ]
  },
  {
   "cell_type": "code",
   "execution_count": 24,
   "id": "8b913e7e-e07c-481a-98f9-c12eea86e764",
   "metadata": {},
   "outputs": [],
   "source": [
    "a = 2 + 4j"
   ]
  },
  {
   "cell_type": "code",
   "execution_count": 25,
   "id": "b21c7855-a6a7-40b2-9f4f-721d52fa6db4",
   "metadata": {},
   "outputs": [
    {
     "data": {
      "text/plain": [
       "complex"
      ]
     },
     "execution_count": 25,
     "metadata": {},
     "output_type": "execute_result"
    }
   ],
   "source": [
    "type(a)"
   ]
  },
  {
   "cell_type": "markdown",
   "id": "f2423961-14bd-402f-96cd-65fb3129e4b4",
   "metadata": {},
   "source": [
    "Q7. What is the correct way to declare a variable named age and assign the value 25 to it?"
   ]
  },
  {
   "cell_type": "code",
   "execution_count": 26,
   "id": "7e8c41f0-b7b9-437a-bd13-595d3300b2e0",
   "metadata": {},
   "outputs": [],
   "source": [
    "age = 25"
   ]
  },
  {
   "cell_type": "code",
   "execution_count": 27,
   "id": "50094092-7294-469b-8c03-ba203874943e",
   "metadata": {},
   "outputs": [
    {
     "data": {
      "text/plain": [
       "25"
      ]
     },
     "execution_count": 27,
     "metadata": {},
     "output_type": "execute_result"
    }
   ],
   "source": [
    "age"
   ]
  },
  {
   "cell_type": "markdown",
   "id": "728bae77-5079-4fb1-a850-b0699b662ea9",
   "metadata": {},
   "source": [
    "Q8. Declare a variable named price and assign the value 9.99 to it. What data type does this variable belong to?"
   ]
  },
  {
   "cell_type": "code",
   "execution_count": 28,
   "id": "7a2e71a1-364e-424f-bc3d-328fdfe4bbcd",
   "metadata": {},
   "outputs": [],
   "source": [
    "price = 9.99\n",
    "# type of this datatype is float"
   ]
  },
  {
   "cell_type": "code",
   "execution_count": 30,
   "id": "08058155-aee5-4da6-a51d-7d2364cf5053",
   "metadata": {},
   "outputs": [
    {
     "data": {
      "text/plain": [
       "float"
      ]
     },
     "execution_count": 30,
     "metadata": {},
     "output_type": "execute_result"
    }
   ],
   "source": [
    "type(price)"
   ]
  },
  {
   "cell_type": "markdown",
   "id": "3cd747a7-d698-4ed7-acee-098deccba90f",
   "metadata": {},
   "source": [
    "Q9. Create a variable named name and assign your full name to it as a string. How would you print the\n",
    "value of this variable?"
   ]
  },
  {
   "cell_type": "code",
   "execution_count": 31,
   "id": "a8e252e2-9b4d-4cf1-afe3-8877f9a4667d",
   "metadata": {},
   "outputs": [],
   "source": [
    "name = \"sachin\""
   ]
  },
  {
   "cell_type": "code",
   "execution_count": 32,
   "id": "d69f515a-a9f8-43c3-ad4b-478d7d768421",
   "metadata": {},
   "outputs": [
    {
     "name": "stdout",
     "output_type": "stream",
     "text": [
      "sachin\n"
     ]
    }
   ],
   "source": [
    "print(\"sachin\")"
   ]
  },
  {
   "cell_type": "markdown",
   "id": "adf601dc-7dac-45c8-8d25-c82d83f8e4d7",
   "metadata": {},
   "source": [
    "Q10. Given the string \"Hello, World!\", extract the substring \"World\"."
   ]
  },
  {
   "cell_type": "code",
   "execution_count": 33,
   "id": "6e0a20e4-4cd6-4a57-a173-39cb81932043",
   "metadata": {},
   "outputs": [],
   "source": [
    "s = \"Hello,World\""
   ]
  },
  {
   "cell_type": "code",
   "execution_count": 36,
   "id": "b5f7c81a-f233-426d-9083-4cf9ce8a0d9c",
   "metadata": {},
   "outputs": [
    {
     "data": {
      "text/plain": [
       "'World'"
      ]
     },
     "execution_count": 36,
     "metadata": {},
     "output_type": "execute_result"
    }
   ],
   "source": [
    "s[6:11]"
   ]
  },
  {
   "cell_type": "markdown",
   "id": "53bf20a4-e5b7-469f-9879-9ade9be1a47b",
   "metadata": {},
   "source": [
    "Q11. Create a variable named \"is_student\" and assign it a boolean value indicating whether you are\n",
    "currently a student or not."
   ]
  },
  {
   "cell_type": "code",
   "execution_count": 37,
   "id": "06a94d30-e467-4c0b-af3e-1eb9fcaedbd5",
   "metadata": {},
   "outputs": [],
   "source": [
    "is_student = True"
   ]
  },
  {
   "cell_type": "code",
   "execution_count": 38,
   "id": "292b1a44-efe0-43da-8d9f-9faec2c5caea",
   "metadata": {},
   "outputs": [
    {
     "data": {
      "text/plain": [
       "True"
      ]
     },
     "execution_count": 38,
     "metadata": {},
     "output_type": "execute_result"
    }
   ],
   "source": [
    "is_student"
   ]
  },
  {
   "cell_type": "code",
   "execution_count": null,
   "id": "86e57db9-2ed3-4ace-bba9-d77d4011cc3e",
   "metadata": {},
   "outputs": [],
   "source": []
  }
 ],
 "metadata": {
  "kernelspec": {
   "display_name": "Python 3 (ipykernel)",
   "language": "python",
   "name": "python3"
  },
  "language_info": {
   "codemirror_mode": {
    "name": "ipython",
    "version": 3
   },
   "file_extension": ".py",
   "mimetype": "text/x-python",
   "name": "python",
   "nbconvert_exporter": "python",
   "pygments_lexer": "ipython3",
   "version": "3.10.8"
  }
 },
 "nbformat": 4,
 "nbformat_minor": 5
}
